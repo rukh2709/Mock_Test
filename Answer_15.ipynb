{
 "cells": [
  {
   "cell_type": "code",
   "execution_count": null,
   "id": "dd71e0b1",
   "metadata": {},
   "outputs": [],
   "source": [
    "16.  Write a SQL query to find the median salary of each company.?"
   ]
  },
  {
   "cell_type": "code",
   "execution_count": null,
   "id": "e9b4a90d",
   "metadata": {},
   "outputs": [],
   "source": [
    "SELECT Company, \n",
    "       AVG(Salary) AS MedianSalary\n",
    "FROM (\n",
    "    SELECT Company, Salary,\n",
    "           ROW_NUMBER() OVER (PARTITION BY Company ORDER BY Salary) AS RowAsc,\n",
    "           ROW_NUMBER() OVER (PARTITION BY Company ORDER BY Salary DESC) AS RowDesc\n",
    "    FROM Employee\n",
    ") AS RankedSalaries\n",
    "WHERE RowAsc = RowDesc OR RowAsc + 1 = RowDesc OR RowAsc = RowDesc + 1\n",
    "GROUP BY Company;\n"
   ]
  }
 ],
 "metadata": {
  "kernelspec": {
   "display_name": "Python 3 (ipykernel)",
   "language": "python",
   "name": "python3"
  },
  "language_info": {
   "codemirror_mode": {
    "name": "ipython",
    "version": 3
   },
   "file_extension": ".py",
   "mimetype": "text/x-python",
   "name": "python",
   "nbconvert_exporter": "python",
   "pygments_lexer": "ipython3",
   "version": "3.10.9"
  }
 },
 "nbformat": 4,
 "nbformat_minor": 5
}
