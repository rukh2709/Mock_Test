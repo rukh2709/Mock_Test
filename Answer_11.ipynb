{
 "cells": [
  {
   "cell_type": "markdown",
   "id": "9d237fe3",
   "metadata": {},
   "source": [
    "11. Create Student Table with ID as Primary Key and NOT NULL , Name as 20 Characters ,Age as Int value both are NOT NULL and Address have  25 charter And Insert Any 5 Records? "
   ]
  },
  {
   "cell_type": "code",
   "execution_count": null,
   "id": "58c73b19",
   "metadata": {},
   "outputs": [],
   "source": [
    "# Create Student Table\n",
    "CREATE TABLE Student (\n",
    "    ID INT PRIMARY KEY NOT NULL,\n",
    "    Name VARCHAR(20) NOT NULL,\n",
    "    Age INT NOT NULL,\n",
    "    Address VARCHAR(25)\n",
    ");\n",
    "\n",
    "# Insert 5 Records\n",
    "INSERT INTO Student (ID, Name, Age, Address)\n",
    "VALUES\n",
    "    (1, 'John Doe', 20, '123 Main St'),\n",
    "    (2, 'Jane Smith', 22, '456 Elm Ave'),\n",
    "    (3, 'Michael Johnson', 21, '789 Oak Rd'),\n",
    "    (4, 'Emily Brown', 19, '555 Pine St'),\n",
    "    (5, 'Robert Davis', 23, '777 Maple Ln');\n"
   ]
  }
 ],
 "metadata": {
  "kernelspec": {
   "display_name": "Python 3 (ipykernel)",
   "language": "python",
   "name": "python3"
  },
  "language_info": {
   "codemirror_mode": {
    "name": "ipython",
    "version": 3
   },
   "file_extension": ".py",
   "mimetype": "text/x-python",
   "name": "python",
   "nbconvert_exporter": "python",
   "pygments_lexer": "ipython3",
   "version": "3.10.9"
  }
 },
 "nbformat": 4,
 "nbformat_minor": 5
}
