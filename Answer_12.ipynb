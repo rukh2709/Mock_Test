{
 "cells": [
  {
   "cell_type": "code",
   "execution_count": null,
   "id": "7c0d0279",
   "metadata": {},
   "outputs": [],
   "source": [
    "12.  Write an SQL query to find the youngest student in the \"student\" table ?"
   ]
  },
  {
   "cell_type": "code",
   "execution_count": null,
   "id": "795be3aa",
   "metadata": {},
   "outputs": [],
   "source": [
    "SELECT *\n",
    "FROM Student\n",
    "ORDER BY Age ASC\n",
    "LIMIT 1;"
   ]
  }
 ],
 "metadata": {
  "kernelspec": {
   "display_name": "Python 3 (ipykernel)",
   "language": "python",
   "name": "python3"
  },
  "language_info": {
   "codemirror_mode": {
    "name": "ipython",
    "version": 3
   },
   "file_extension": ".py",
   "mimetype": "text/x-python",
   "name": "python",
   "nbconvert_exporter": "python",
   "pygments_lexer": "ipython3",
   "version": "3.10.9"
  }
 },
 "nbformat": 4,
 "nbformat_minor": 5
}
