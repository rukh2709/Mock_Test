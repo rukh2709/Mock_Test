{
 "cells": [
  {
   "cell_type": "code",
   "execution_count": null,
   "id": "a6989a1a",
   "metadata": {},
   "outputs": [],
   "source": [
    "17.  Write a SQL to get the cumulative sum of an employee’s salary over a period of 3 month but exclude the most recent month? The result should be display by id ascending and then by month decending ? "
   ]
  },
  {
   "cell_type": "code",
   "execution_count": null,
   "id": "193452d3",
   "metadata": {},
   "outputs": [],
   "source": [
    "SELECT ID, Month, Salary,\n",
    "       SUM(Salary) OVER (PARTITION BY ID ORDER BY Month DESC ROWS BETWEEN 2 PRECEDING AND CURRENT ROW) AS CumulativeSum\n",
    "FROM (\n",
    "    SELECT ID, EXTRACT(MONTH FROM SalaryDate) AS Month, Salary\n",
    "    FROM EmployeeSalary\n",
    "    WHERE SalaryDate <= (SELECT MAX(SalaryDate) FROM EmployeeSalary) - INTERVAL '1 MONTH'\n",
    ") AS FilteredSalaries\n",
    "ORDER BY ID ASC, Month DESC;\n"
   ]
  }
 ],
 "metadata": {
  "kernelspec": {
   "display_name": "Python 3 (ipykernel)",
   "language": "python",
   "name": "python3"
  },
  "language_info": {
   "codemirror_mode": {
    "name": "ipython",
    "version": 3
   },
   "file_extension": ".py",
   "mimetype": "text/x-python",
   "name": "python",
   "nbconvert_exporter": "python",
   "pygments_lexer": "ipython3",
   "version": "3.10.9"
  }
 },
 "nbformat": 4,
 "nbformat_minor": 5
}
