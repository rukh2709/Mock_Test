{
 "cells": [
  {
   "cell_type": "code",
   "execution_count": null,
   "id": "fcfba16a",
   "metadata": {},
   "outputs": [],
   "source": [
    "14.  Write an SQL query to fetch the second highest number from the \"student\" table"
   ]
  },
  {
   "cell_type": "code",
   "execution_count": null,
   "id": "43e35130",
   "metadata": {},
   "outputs": [],
   "source": [
    "SELECT DISTINCT Age\n",
    "FROM Student\n",
    "ORDER BY Age DESC\n",
    "LIMIT 1 OFFSET 1;"
   ]
  }
 ],
 "metadata": {
  "kernelspec": {
   "display_name": "Python 3 (ipykernel)",
   "language": "python",
   "name": "python3"
  },
  "language_info": {
   "codemirror_mode": {
    "name": "ipython",
    "version": 3
   },
   "file_extension": ".py",
   "mimetype": "text/x-python",
   "name": "python",
   "nbconvert_exporter": "python",
   "pygments_lexer": "ipython3",
   "version": "3.10.9"
  }
 },
 "nbformat": 4,
 "nbformat_minor": 5
}
