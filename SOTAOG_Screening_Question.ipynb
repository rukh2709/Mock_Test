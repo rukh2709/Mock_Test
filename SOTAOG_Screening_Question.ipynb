{
 "cells": [
  {
   "cell_type": "markdown",
   "id": "f20236db",
   "metadata": {},
   "source": [
    "Suppose we have the following two lists of values in Python:\n",
    "x = [2, 4, 6, 8, 10, 12, 14, 16, 18, 20]\n",
    "y = [4, 7, 11, 16, 22, 29, 38, 49, 63, 80]\n",
    "we’d like to find the y-value associated with a new x-value of 13.*"
   ]
  },
  {
   "cell_type": "markdown",
   "id": "f176625d",
   "metadata": {},
   "source": [
    "Answer:"
   ]
  },
  {
   "cell_type": "code",
   "execution_count": 1,
   "id": "d1aa0ea7",
   "metadata": {},
   "outputs": [
    {
     "name": "stdout",
     "output_type": "stream",
     "text": [
      "The interpolated y-value for x = 13 is approximately 33.50\n"
     ]
    }
   ],
   "source": [
    "# Given data\n",
    "x = [2, 4, 6, 8, 10, 12, 14, 16, 18, 20]\n",
    "y = [4, 7, 11, 16, 22, 29, 38, 49, 63, 80]\n",
    "\n",
    "# New x-value for interpolation\n",
    "new_x = 13\n",
    "\n",
    "# Perform linear interpolation\n",
    "def linear_interpolation(x, y, new_x):\n",
    "    for i in range(len(x) - 1):\n",
    "        if x[i] <= new_x <= x[i + 1]:\n",
    "            # Calculate the slope (m) and y-intercept (b) for the line between (x[i], y[i]) and (x[i+1], y[i+1])\n",
    "            m = (y[i + 1] - y[i]) / (x[i + 1] - x[i])\n",
    "            b = y[i] - m * x[i]\n",
    "            \n",
    "            # Use the equation of a line to find the y-value at the new_x\n",
    "            new_y = m * new_x + b\n",
    "            return new_y\n",
    "\n",
    "# Get the interpolated y-value for the new x-value\n",
    "result = linear_interpolation(x, y, new_x)\n",
    "\n",
    "# Print the result\n",
    "print(f\"The interpolated y-value for x = {new_x} is approximately {result:.2f}\")\n"
   ]
  }
 ],
 "metadata": {
  "kernelspec": {
   "display_name": "Python 3 (ipykernel)",
   "language": "python",
   "name": "python3"
  },
  "language_info": {
   "codemirror_mode": {
    "name": "ipython",
    "version": 3
   },
   "file_extension": ".py",
   "mimetype": "text/x-python",
   "name": "python",
   "nbconvert_exporter": "python",
   "pygments_lexer": "ipython3",
   "version": "3.10.13"
  }
 },
 "nbformat": 4,
 "nbformat_minor": 5
}
